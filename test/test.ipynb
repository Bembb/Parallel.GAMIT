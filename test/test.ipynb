{
 "cells": [
  {
   "cell_type": "code",
   "execution_count": 1,
   "metadata": {},
   "outputs": [],
   "source": [
    "import pgamit"
   ]
  },
  {
   "cell_type": "code",
   "execution_count": 2,
   "metadata": {},
   "outputs": [
    {
     "data": {
      "text/plain": [
       "['GenerateKml',\n",
       " 'Utils',\n",
       " 'WeeklyCombination',\n",
       " '__builtins__',\n",
       " '__cached__',\n",
       " '__doc__',\n",
       " '__file__',\n",
       " '__loader__',\n",
       " '__name__',\n",
       " '__package__',\n",
       " '__path__',\n",
       " '__spec__',\n",
       " 'classes',\n",
       " 'com',\n",
       " 'dbConnection',\n",
       " 'pyArchiveStruct',\n",
       " 'pyBrdc',\n",
       " 'pyBunch',\n",
       " 'pyClk',\n",
       " 'pyCompress',\n",
       " 'pyDate',\n",
       " 'pyEOP',\n",
       " 'pyETM',\n",
       " 'pyEvents',\n",
       " 'pyLeastSquares',\n",
       " 'pyNEQStack',\n",
       " 'pyOTL',\n",
       " 'pyOkada',\n",
       " 'pyOptions',\n",
       " 'pyPPP',\n",
       " 'pyParallelGamit',\n",
       " 'pyParseAntex',\n",
       " 'pyProducts',\n",
       " 'pyRinex',\n",
       " 'pyRinexName',\n",
       " 'pyRunWithRetry',\n",
       " 'pySp3',\n",
       " 'pyStack',\n",
       " 'pyStatic1d',\n",
       " 'pyStationInfo',\n",
       " 'pyTerminal',\n",
       " 'pyTrimbleT0x',\n",
       " 'pyVoronoi',\n",
       " 'pyZTD',\n",
       " 'snxParse']"
      ]
     },
     "execution_count": 2,
     "metadata": {},
     "output_type": "execute_result"
    }
   ],
   "source": [
    "dir(pgamit)"
   ]
  },
  {
   "cell_type": "code",
   "execution_count": 3,
   "metadata": {},
   "outputs": [
    {
     "name": "stdout",
     "output_type": "stream",
     "text": [
      "(270, 2024.7363387978141)\n",
      "(270, 2024.7363387978141)\n"
     ]
    }
   ],
   "source": [
    "print(\n",
    "    pgamit.pyDate.date2doy(2024,9,26)\n",
    ")\n",
    "\n",
    "print(\n",
    "    pgamit.classes.pyDate.date2doy(2024,9,26)\n",
    ")"
   ]
  }
 ],
 "metadata": {
  "kernelspec": {
   "display_name": "pgamit",
   "language": "python",
   "name": "python3"
  },
  "language_info": {
   "codemirror_mode": {
    "name": "ipython",
    "version": 3
   },
   "file_extension": ".py",
   "mimetype": "text/x-python",
   "name": "python",
   "nbconvert_exporter": "python",
   "pygments_lexer": "ipython3",
   "version": "3.9.19"
  }
 },
 "nbformat": 4,
 "nbformat_minor": 2
}
